{
 "cells": [
  {
   "cell_type": "markdown",
   "metadata": {},
   "source": [
    "# Bias correcting precipitation\n",
    "\n",
    "* Should we apply the BC using a (e.g.) 15-day rolling window? or all Januarys, Februarys etc ??\n",
    "* How should we account for missing observational data?\n",
    "* What quality control checks should we do on the station data before we use it?"
   ]
  },
  {
   "cell_type": "code",
   "execution_count": 1,
   "metadata": {},
   "outputs": [],
   "source": [
    "%matplotlib inline\n",
    "\n",
    "import pandas as pd\n",
    "import numpy as np\n",
    "from scipy import optimize, spatial\n",
    "import matplotlib.pyplot as plt"
   ]
  },
  {
   "cell_type": "code",
   "execution_count": 2,
   "metadata": {},
   "outputs": [],
   "source": [
    "def cv_diff(a, series, target_cv):\n",
    "    '''\n",
    "    Returns the difference between the coefficient of variation of the input \n",
    "        series and the target coefficient of variation. This value is then \n",
    "        minimised in order to find the power-correction coefficients needed\n",
    "    Input:\n",
    "        a : power-correction coefficient to be tested\n",
    "        series : time-series that needs to be corrected in order to match its \n",
    "            coefficient of variation with target_cv\n",
    "        target_cv : target coefficient of variation for the time-series\n",
    "    Output:\n",
    "        cv_diff : difference between the target coefficient of variation and \n",
    "            the coefficient of variation of the series after having been \n",
    "            raised to the power of a; this value should be minimised through \n",
    "            an iterative scheme\n",
    "    '''\n",
    "    series_new = np.power(series, a)\n",
    "    cv_new = np.std(series_new) / np.mean(series_new)\n",
    "    cv_diff = target_cv - cv_new\n",
    "    return cv_diff\n",
    "\n",
    "def correct_series_coeffs(series, target_mean, target_cv):\n",
    "    '''\n",
    "    Returns the power-correction coefficients that are needed in order to \n",
    "        correct the series and increase the rainfall variability. If the \n",
    "        optimization algorithm fails to converge, it will leave the \n",
    "        coefficient of variation unchanged and match the mean by setting \n",
    "        the b coefficient to 1\n",
    "    Input:\n",
    "        series - time-series that needs to be corrected in order to match its \n",
    "            coefficient of variation with target_cv\n",
    "        target_mean - target mean for the time-series\n",
    "        target_cv - target coefficient of variation for the time-series\n",
    "    Output:\n",
    "        a - linear coefficient that the entire series is multiplied by\n",
    "        b - coefficient that the entire series is raised to\n",
    "    '''\n",
    "    try:\n",
    "        b = optimize.newton(cv_diff, 1.0, args = (series, target_cv), \n",
    "                                tol = 1.48e-05, maxiter = 100)\n",
    "    except RuntimeError:\n",
    "        b = 1\n",
    "    series_corrected_cv = np.power(series, b)\n",
    "    a = target_mean / np.mean(series_corrected_cv)\n",
    "    return a, b"
   ]
  },
  {
   "cell_type": "code",
   "execution_count": 3,
   "metadata": {},
   "outputs": [],
   "source": [
    "def get_nearest_point(df, lon_label, lat_label, my_lon, my_lat):\n",
    "    df1 = df.groupby([lon_label, lat_label]).mean().reset_index()\n",
    "    xs = df1[lon_label].values\n",
    "    ys = df1[lat_label].values\n",
    "    tree = spatial.KDTree(list(zip(xs, ys)))\n",
    "    d, i = tree.query( [(my_lon, my_lat)], k=1)\n",
    "    df = df[ (df[lon_label] == xs[i][0]) & (df[lat_label] == ys[i][0]) ]\n",
    "    return df"
   ]
  },
  {
   "cell_type": "markdown",
   "metadata": {},
   "source": [
    "## Read in data"
   ]
  },
  {
   "cell_type": "code",
   "execution_count": 4,
   "metadata": {},
   "outputs": [],
   "source": [
    "### Example for Suni where we have all daily data for 2008\n",
    "lon, lat = 77.164200, 31.2303"
   ]
  },
  {
   "cell_type": "markdown",
   "metadata": {},
   "source": [
    "### Model Data"
   ]
  },
  {
   "cell_type": "code",
   "execution_count": 5,
   "metadata": {},
   "outputs": [
    {
     "data": {
      "text/html": [
       "<div>\n",
       "<style scoped>\n",
       "    .dataframe tbody tr th:only-of-type {\n",
       "        vertical-align: middle;\n",
       "    }\n",
       "\n",
       "    .dataframe tbody tr th {\n",
       "        vertical-align: top;\n",
       "    }\n",
       "\n",
       "    .dataframe thead th {\n",
       "        text-align: right;\n",
       "    }\n",
       "</style>\n",
       "<table border=\"1\" class=\"dataframe\">\n",
       "  <thead>\n",
       "    <tr style=\"text-align: right;\">\n",
       "      <th></th>\n",
       "      <th>Time</th>\n",
       "      <th>lat</th>\n",
       "      <th>lon</th>\n",
       "      <th>RAINC</th>\n",
       "      <th>RAINNC</th>\n",
       "      <th>Total_Rain</th>\n",
       "    </tr>\n",
       "  </thead>\n",
       "  <tbody>\n",
       "    <tr>\n",
       "      <th>0</th>\n",
       "      <td>2008-01-01</td>\n",
       "      <td>29.597431</td>\n",
       "      <td>75.117004</td>\n",
       "      <td>0.0</td>\n",
       "      <td>0.0</td>\n",
       "      <td>0.0</td>\n",
       "    </tr>\n",
       "    <tr>\n",
       "      <th>1</th>\n",
       "      <td>2008-01-02</td>\n",
       "      <td>29.597431</td>\n",
       "      <td>75.117004</td>\n",
       "      <td>0.0</td>\n",
       "      <td>0.0</td>\n",
       "      <td>0.0</td>\n",
       "    </tr>\n",
       "    <tr>\n",
       "      <th>2</th>\n",
       "      <td>2008-01-03</td>\n",
       "      <td>29.597431</td>\n",
       "      <td>75.117004</td>\n",
       "      <td>0.0</td>\n",
       "      <td>0.0</td>\n",
       "      <td>0.0</td>\n",
       "    </tr>\n",
       "    <tr>\n",
       "      <th>3</th>\n",
       "      <td>2008-01-04</td>\n",
       "      <td>29.597431</td>\n",
       "      <td>75.117004</td>\n",
       "      <td>0.0</td>\n",
       "      <td>0.0</td>\n",
       "      <td>0.0</td>\n",
       "    </tr>\n",
       "    <tr>\n",
       "      <th>4</th>\n",
       "      <td>2008-01-05</td>\n",
       "      <td>29.597431</td>\n",
       "      <td>75.117004</td>\n",
       "      <td>0.0</td>\n",
       "      <td>0.0</td>\n",
       "      <td>0.0</td>\n",
       "    </tr>\n",
       "  </tbody>\n",
       "</table>\n",
       "</div>"
      ],
      "text/plain": [
       "         Time        lat        lon  RAINC  RAINNC  Total_Rain\n",
       "0  2008-01-01  29.597431  75.117004    0.0     0.0         0.0\n",
       "1  2008-01-02  29.597431  75.117004    0.0     0.0         0.0\n",
       "2  2008-01-03  29.597431  75.117004    0.0     0.0         0.0\n",
       "3  2008-01-04  29.597431  75.117004    0.0     0.0         0.0\n",
       "4  2008-01-05  29.597431  75.117004    0.0     0.0         0.0"
      ]
     },
     "execution_count": 5,
     "metadata": {},
     "output_type": "execute_result"
    }
   ],
   "source": [
    "model_data  = pd.read_csv('../envkrig/Data/WRF_precip_1D_2008.csv')\n",
    "model_data['Total_Rain'] = model_data['RAINC'] + model_data['RAINNC']\n",
    "model_data.head()"
   ]
  },
  {
   "cell_type": "code",
   "execution_count": 6,
   "metadata": {},
   "outputs": [
    {
     "data": {
      "text/html": [
       "<div>\n",
       "<style scoped>\n",
       "    .dataframe tbody tr th:only-of-type {\n",
       "        vertical-align: middle;\n",
       "    }\n",
       "\n",
       "    .dataframe tbody tr th {\n",
       "        vertical-align: top;\n",
       "    }\n",
       "\n",
       "    .dataframe thead th {\n",
       "        text-align: right;\n",
       "    }\n",
       "</style>\n",
       "<table border=\"1\" class=\"dataframe\">\n",
       "  <thead>\n",
       "    <tr style=\"text-align: right;\">\n",
       "      <th></th>\n",
       "      <th>Time</th>\n",
       "      <th>lat</th>\n",
       "      <th>lon</th>\n",
       "      <th>RAINC</th>\n",
       "      <th>RAINNC</th>\n",
       "      <th>Total_Rain</th>\n",
       "    </tr>\n",
       "  </thead>\n",
       "  <tbody>\n",
       "    <tr>\n",
       "      <th>0</th>\n",
       "      <td>2008-01-01</td>\n",
       "      <td>31.00657</td>\n",
       "      <td>77.146666</td>\n",
       "      <td>0.0</td>\n",
       "      <td>0.000000</td>\n",
       "      <td>0.000000</td>\n",
       "    </tr>\n",
       "    <tr>\n",
       "      <th>1</th>\n",
       "      <td>2008-01-02</td>\n",
       "      <td>31.00657</td>\n",
       "      <td>77.146666</td>\n",
       "      <td>0.0</td>\n",
       "      <td>0.000000</td>\n",
       "      <td>0.000000</td>\n",
       "    </tr>\n",
       "    <tr>\n",
       "      <th>2</th>\n",
       "      <td>2008-01-03</td>\n",
       "      <td>31.00657</td>\n",
       "      <td>77.146666</td>\n",
       "      <td>0.0</td>\n",
       "      <td>0.000812</td>\n",
       "      <td>0.000812</td>\n",
       "    </tr>\n",
       "    <tr>\n",
       "      <th>3</th>\n",
       "      <td>2008-01-04</td>\n",
       "      <td>31.00657</td>\n",
       "      <td>77.146666</td>\n",
       "      <td>0.0</td>\n",
       "      <td>0.003708</td>\n",
       "      <td>0.003708</td>\n",
       "    </tr>\n",
       "    <tr>\n",
       "      <th>4</th>\n",
       "      <td>2008-01-05</td>\n",
       "      <td>31.00657</td>\n",
       "      <td>77.146666</td>\n",
       "      <td>0.0</td>\n",
       "      <td>0.635166</td>\n",
       "      <td>0.635166</td>\n",
       "    </tr>\n",
       "  </tbody>\n",
       "</table>\n",
       "</div>"
      ],
      "text/plain": [
       "         Time       lat        lon  RAINC    RAINNC  Total_Rain\n",
       "0  2008-01-01  31.00657  77.146666    0.0  0.000000    0.000000\n",
       "1  2008-01-02  31.00657  77.146666    0.0  0.000000    0.000000\n",
       "2  2008-01-03  31.00657  77.146666    0.0  0.000812    0.000812\n",
       "3  2008-01-04  31.00657  77.146666    0.0  0.003708    0.003708\n",
       "4  2008-01-05  31.00657  77.146666    0.0  0.635166    0.635166"
      ]
     },
     "execution_count": 6,
     "metadata": {},
     "output_type": "execute_result"
    }
   ],
   "source": [
    "model_data = get_nearest_point(model_data, 'lon', 'lat', lon, lat)\n",
    "model_data = model_data.reset_index(drop=True)\n",
    "model_data.head()"
   ]
  },
  {
   "cell_type": "markdown",
   "metadata": {},
   "source": [
    "### Station Data "
   ]
  },
  {
   "cell_type": "code",
   "execution_count": 7,
   "metadata": {},
   "outputs": [
    {
     "data": {
      "text/html": [
       "<div>\n",
       "<style scoped>\n",
       "    .dataframe tbody tr th:only-of-type {\n",
       "        vertical-align: middle;\n",
       "    }\n",
       "\n",
       "    .dataframe tbody tr th {\n",
       "        vertical-align: top;\n",
       "    }\n",
       "\n",
       "    .dataframe thead th {\n",
       "        text-align: right;\n",
       "    }\n",
       "</style>\n",
       "<table border=\"1\" class=\"dataframe\">\n",
       "  <thead>\n",
       "    <tr style=\"text-align: right;\">\n",
       "      <th></th>\n",
       "      <th>Date</th>\n",
       "      <th>Station_Name</th>\n",
       "      <th>Longitude</th>\n",
       "      <th>Latitude</th>\n",
       "      <th>Altitude</th>\n",
       "      <th>Rainfall</th>\n",
       "    </tr>\n",
       "  </thead>\n",
       "  <tbody>\n",
       "    <tr>\n",
       "      <th>22787</th>\n",
       "      <td>2008-01-06</td>\n",
       "      <td>AMRITSAR, IN</td>\n",
       "      <td>74.797</td>\n",
       "      <td>31.71</td>\n",
       "      <td>230.4</td>\n",
       "      <td>0.3</td>\n",
       "    </tr>\n",
       "    <tr>\n",
       "      <th>22788</th>\n",
       "      <td>2008-01-07</td>\n",
       "      <td>AMRITSAR, IN</td>\n",
       "      <td>74.797</td>\n",
       "      <td>31.71</td>\n",
       "      <td>230.4</td>\n",
       "      <td>0.3</td>\n",
       "    </tr>\n",
       "    <tr>\n",
       "      <th>22789</th>\n",
       "      <td>2008-01-08</td>\n",
       "      <td>AMRITSAR, IN</td>\n",
       "      <td>74.797</td>\n",
       "      <td>31.71</td>\n",
       "      <td>230.4</td>\n",
       "      <td>0.0</td>\n",
       "    </tr>\n",
       "    <tr>\n",
       "      <th>22790</th>\n",
       "      <td>2008-01-09</td>\n",
       "      <td>AMRITSAR, IN</td>\n",
       "      <td>74.797</td>\n",
       "      <td>31.71</td>\n",
       "      <td>230.4</td>\n",
       "      <td>11.9</td>\n",
       "    </tr>\n",
       "    <tr>\n",
       "      <th>22791</th>\n",
       "      <td>2008-01-10</td>\n",
       "      <td>AMRITSAR, IN</td>\n",
       "      <td>74.797</td>\n",
       "      <td>31.71</td>\n",
       "      <td>230.4</td>\n",
       "      <td>6.1</td>\n",
       "    </tr>\n",
       "  </tbody>\n",
       "</table>\n",
       "</div>"
      ],
      "text/plain": [
       "             Date  Station_Name  Longitude  Latitude  Altitude  Rainfall\n",
       "22787  2008-01-06  AMRITSAR, IN     74.797     31.71     230.4       0.3\n",
       "22788  2008-01-07  AMRITSAR, IN     74.797     31.71     230.4       0.3\n",
       "22789  2008-01-08  AMRITSAR, IN     74.797     31.71     230.4       0.0\n",
       "22790  2008-01-09  AMRITSAR, IN     74.797     31.71     230.4      11.9\n",
       "22791  2008-01-10  AMRITSAR, IN     74.797     31.71     230.4       6.1"
      ]
     },
     "execution_count": 7,
     "metadata": {},
     "output_type": "execute_result"
    }
   ],
   "source": [
    "obs_data  = pd.read_csv('../envkrig/Data/rainfall_data.csv').drop(labels=['Unnamed: 0'], axis=1)\n",
    "obs_dates = pd.DatetimeIndex(obs_data.Date)\n",
    "obs_data  = obs_data[ obs_dates.year == 2008 ]\n",
    "obs_data.head()"
   ]
  },
  {
   "cell_type": "code",
   "execution_count": 8,
   "metadata": {},
   "outputs": [
    {
     "data": {
      "text/html": [
       "<div>\n",
       "<style scoped>\n",
       "    .dataframe tbody tr th:only-of-type {\n",
       "        vertical-align: middle;\n",
       "    }\n",
       "\n",
       "    .dataframe tbody tr th {\n",
       "        vertical-align: top;\n",
       "    }\n",
       "\n",
       "    .dataframe thead th {\n",
       "        text-align: right;\n",
       "    }\n",
       "</style>\n",
       "<table border=\"1\" class=\"dataframe\">\n",
       "  <thead>\n",
       "    <tr style=\"text-align: right;\">\n",
       "      <th></th>\n",
       "      <th>Date</th>\n",
       "      <th>Station_Name</th>\n",
       "      <th>Longitude</th>\n",
       "      <th>Latitude</th>\n",
       "      <th>Altitude</th>\n",
       "      <th>Rainfall</th>\n",
       "    </tr>\n",
       "  </thead>\n",
       "  <tbody>\n",
       "    <tr>\n",
       "      <th>969835</th>\n",
       "      <td>2008-01-01</td>\n",
       "      <td>SUNI</td>\n",
       "      <td>77.108333</td>\n",
       "      <td>31.2375</td>\n",
       "      <td>655.0</td>\n",
       "      <td>0.0</td>\n",
       "    </tr>\n",
       "    <tr>\n",
       "      <th>969836</th>\n",
       "      <td>2008-02-01</td>\n",
       "      <td>SUNI</td>\n",
       "      <td>77.108333</td>\n",
       "      <td>31.2375</td>\n",
       "      <td>655.0</td>\n",
       "      <td>0.0</td>\n",
       "    </tr>\n",
       "    <tr>\n",
       "      <th>969837</th>\n",
       "      <td>2008-03-01</td>\n",
       "      <td>SUNI</td>\n",
       "      <td>77.108333</td>\n",
       "      <td>31.2375</td>\n",
       "      <td>655.0</td>\n",
       "      <td>0.0</td>\n",
       "    </tr>\n",
       "    <tr>\n",
       "      <th>969838</th>\n",
       "      <td>2008-04-01</td>\n",
       "      <td>SUNI</td>\n",
       "      <td>77.108333</td>\n",
       "      <td>31.2375</td>\n",
       "      <td>655.0</td>\n",
       "      <td>0.0</td>\n",
       "    </tr>\n",
       "    <tr>\n",
       "      <th>969839</th>\n",
       "      <td>2008-05-01</td>\n",
       "      <td>SUNI</td>\n",
       "      <td>77.108333</td>\n",
       "      <td>31.2375</td>\n",
       "      <td>655.0</td>\n",
       "      <td>0.0</td>\n",
       "    </tr>\n",
       "  </tbody>\n",
       "</table>\n",
       "</div>"
      ],
      "text/plain": [
       "              Date Station_Name  Longitude  Latitude  Altitude  Rainfall\n",
       "969835  2008-01-01         SUNI  77.108333   31.2375     655.0       0.0\n",
       "969836  2008-02-01         SUNI  77.108333   31.2375     655.0       0.0\n",
       "969837  2008-03-01         SUNI  77.108333   31.2375     655.0       0.0\n",
       "969838  2008-04-01         SUNI  77.108333   31.2375     655.0       0.0\n",
       "969839  2008-05-01         SUNI  77.108333   31.2375     655.0       0.0"
      ]
     },
     "execution_count": 8,
     "metadata": {},
     "output_type": "execute_result"
    }
   ],
   "source": [
    "obs_data = get_nearest_point(obs_data, 'Longitude', 'Latitude', lon, lat)\n",
    "obs_data.head()"
   ]
  },
  {
   "cell_type": "code",
   "execution_count": 9,
   "metadata": {},
   "outputs": [],
   "source": [
    "### Sanity check...\n",
    "if len(obs_data) != len(model_data):\n",
    "    print(len(obs_data), len(model_data))\n",
    "    raise ValueError('Timeseries are not the same length')"
   ]
  },
  {
   "cell_type": "markdown",
   "metadata": {},
   "source": [
    "### Apply Bias Correction"
   ]
  },
  {
   "cell_type": "code",
   "execution_count": 10,
   "metadata": {},
   "outputs": [
    {
     "name": "stdout",
     "output_type": "stream",
     "text": [
      "0.5203671391974478 1.143786183409659\n"
     ]
    }
   ],
   "source": [
    "target_mean = obs_data['Rainfall'].values.mean() # mean for closest station \n",
    "target_sd   = obs_data['Rainfall'].values.std()  # std for closest station\n",
    "target_cv   = target_sd / target_mean\n",
    "\n",
    "a_coeff, b_coeff   = correct_series_coeffs(model_data['Total_Rain'].values, target_mean, target_cv)\n",
    "print(a_coeff, b_coeff)"
   ]
  },
  {
   "cell_type": "code",
   "execution_count": 11,
   "metadata": {},
   "outputs": [],
   "source": [
    "corrected_rainfall = a_coeff * (np.power(model_data['Total_Rain'].values, b_coeff))\n",
    "model_data['Corrected_Rain'] = corrected_rainfall"
   ]
  },
  {
   "cell_type": "markdown",
   "metadata": {},
   "source": [
    "### Compare statistics"
   ]
  },
  {
   "cell_type": "code",
   "execution_count": 12,
   "metadata": {},
   "outputs": [
    {
     "data": {
      "text/plain": [
       "(3.7483606557377054, 3.748360655737707, 4.308890120054218)"
      ]
     },
     "execution_count": 12,
     "metadata": {},
     "output_type": "execute_result"
    }
   ],
   "source": [
    "obs_data['Rainfall'].values.mean(), model_data['Corrected_Rain'].mean(), model_data['Total_Rain'].mean()"
   ]
  },
  {
   "cell_type": "code",
   "execution_count": 13,
   "metadata": {},
   "outputs": [
    {
     "data": {
      "text/plain": [
       "(14.691002600974516, 14.7111134982456, 14.707594401384213)"
      ]
     },
     "execution_count": 13,
     "metadata": {},
     "output_type": "execute_result"
    }
   ],
   "source": [
    "obs_data['Rainfall'].values.std(), model_data['Corrected_Rain'].std(), model_data['Total_Rain'].std()"
   ]
  },
  {
   "cell_type": "markdown",
   "metadata": {},
   "source": [
    "### Plotting"
   ]
  },
  {
   "cell_type": "code",
   "execution_count": 14,
   "metadata": {},
   "outputs": [
    {
     "data": {
      "text/plain": [
       "Text(0, 0.5, 'rainfall')"
      ]
     },
     "execution_count": 14,
     "metadata": {},
     "output_type": "execute_result"
    },
    {
     "data": {
      "image/png": "[encoded data removed]",
      "text/plain": [
       "<Figure size 1080x432 with 1 Axes>"
      ]
     },
     "metadata": {
      "needs_background": "light"
     },
     "output_type": "display_data"
    }
   ],
   "source": [
    "plt.figure(figsize=[15,6])\n",
    "plt.plot(model_data.index, model_data['Total_Rain'], '.')\n",
    "plt.plot(model_data.index, model_data['Corrected_Rain'], alpha=0.5)\n",
    "plt.xlabel('time (days)')\n",
    "plt.ylabel('rainfall')"
   ]
  },
  {
   "cell_type": "code",
   "execution_count": 15,
   "metadata": {},
   "outputs": [
    {
     "data": {
      "text/plain": [
       "Text(0, 0.5, 'rainfall')"
      ]
     },
     "execution_count": 15,
     "metadata": {},
     "output_type": "execute_result"
    },
    {
     "data": {
      "image/png": "[encoded data removed]",
      "text/plain": [
       "<Figure size 1080x432 with 1 Axes>"
      ]
     },
     "metadata": {
      "needs_background": "light"
     },
     "output_type": "display_data"
    }
   ],
   "source": [
    "### difference\n",
    "plt.figure(figsize=[15,6])\n",
    "plt.plot(model_data.index, model_data['Corrected_Rain']-model_data['Total_Rain'])\n",
    "plt.xlabel('time (days)')\n",
    "plt.ylabel('rainfall')"
   ]
  },
  {
   "cell_type": "code",
   "execution_count": null,
   "metadata": {},
   "outputs": [],
   "source": []
  }
 ],
 "metadata": {
  "kernelspec": {
   "display_name": "Python 3",
   "language": "python",
   "name": "python3"
  },
  "language_info": {
   "codemirror_mode": {
    "name": "ipython",
    "version": 3
   },
   "file_extension": ".py",
   "mimetype": "text/x-python",
   "name": "python",
   "nbconvert_exporter": "python",
   "pygments_lexer": "ipython3",
   "version": "3.6.8"
  }
 },
 "nbformat": 4,
 "nbformat_minor": 2
}
